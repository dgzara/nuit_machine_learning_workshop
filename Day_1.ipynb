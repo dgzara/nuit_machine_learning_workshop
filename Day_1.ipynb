{
 "cells": [
  {
   "cell_type": "markdown",
   "id": "bacterial-criminal",
   "metadata": {},
   "source": [
    "# Machine Learning Basics with Scikit-learn: Day 1"
   ]
  },
  {
   "cell_type": "markdown",
   "id": "large-lounge",
   "metadata": {},
   "source": [
    "## Introduction"
   ]
  },
  {
   "cell_type": "markdown",
   "id": "combined-diamond",
   "metadata": {},
   "source": [
    "### Objectives\n",
    "The workshop will focus on the basics of *scikit-learn*, which is one of the most popular machine learning libraries in Python. After the workshop you will:\n",
    "\n",
    "* Understand how to use scikit-learn functions and documentation.\n",
    "* Learn the usual procedure to transform your data for a machine learning model.\n",
    "* Create basic machine learning models."
   ]
  },
  {
   "cell_type": "markdown",
   "id": "international-customs",
   "metadata": {},
   "source": [
    "### Why scikit-learn?\n",
    "Scikit-learn is an open source machine learning library that supports supervised and unsupervised learning. It also provides various tools for model fitting, data preprocessing, model selection and evaluation, and many other utilities. It has a standardized and simple interface for preprocessing data and model training, optimization and evaluation. \n",
    "\n",
    "### Why are we teaching machine learning with scikit-learn?\n",
    "Using machine learning is becoming a mandatory new skill for many professional workers. As work and organizations demand more use of data analyses, machine learning allows us to analyze large datasets to extract meaningful information. Although machine learning techniques have been there for decades, modern programming languages are making these techniques available for thousands of users. Rather than developing each method from scratch, *scikit-learn* offers a simple way to implement them with our datasets. This package provides a easy toolkit to master and leverage machine learning skills. We hope that learning sckikit-learn helps you comprehend the overall process of data transformation: from curating and importing datasets, to curating models for data knowledge purposes. \n",
    "\n",
    "### Structure of the Workshop\n",
    "The workshop is divided into 5 days:\n",
    "\n",
    "1. Introduction to scikit-learn\n",
    "2. Supervisded learning: Classification models\n",
    "3. Unsupervised learning: Clustering models\n",
    "4. Data cleaning / transformation\n",
    "5. Model selection\n",
    "\n",
    "Today, we will start with an overview of *scikit-learn.* We will load datasets, create training and testing datasets, create a model, and evaluate it. We will delve into the functions, models, and details these days. However, keep in mind that this workshop's content will stay at an introductory level. If you are interested in learning more, here are some good resources that you can explore:\n",
    "* [Official documentation](https://scikit-learn.org/stable/index.html)\n",
    "* [Google Cloud AI Adventures](https://www.youtube.com/hashtag/aiadventures)\n",
    "* [Google's Machine Learning Crash Course](https://developers.google.com/machine-learning/crash-course)\n",
    "* [Stanford University: CS229: Machine Learning](http://cs229.stanford.edu/)"
   ]
  },
  {
   "cell_type": "markdown",
   "id": "separate-spain",
   "metadata": {},
   "source": [
    "## Installing scikit-learn"
   ]
  },
  {
   "cell_type": "markdown",
   "id": "unlikely-capitol",
   "metadata": {},
   "source": [
    "Conda and Google Colab already have scikit-learn. You should skip the instalation if you're using one of those. If you are running this notebook on your own environment, please run the following command. And for more instructions, please check out the [documentation](https://scikit-learn.org/stable/install.html)"
   ]
  },
  {
   "cell_type": "code",
   "execution_count": null,
   "id": "regular-cleaners",
   "metadata": {},
   "outputs": [],
   "source": [
    "# If you do not have scikit-learn installed, uncomment the following lines and run the following command. \n",
    "# import sys\n",
    "# !{sys.executable} -m pip install scikit-learn==0.24.2\n",
    "# !{sys.executable} -m pip install scikit-learn --upgrade"
   ]
  },
  {
   "cell_type": "markdown",
   "id": "small-packaging",
   "metadata": {},
   "source": [
    "Let's check that the package is in your environment. Run the following command."
   ]
  },
  {
   "cell_type": "code",
   "execution_count": null,
   "id": "through-bridal",
   "metadata": {},
   "outputs": [],
   "source": [
    "import sklearn\n",
    "sklearn.show_versions()"
   ]
  },
  {
   "cell_type": "markdown",
   "id": "considerable-therapy",
   "metadata": {},
   "source": [
    "## The big picture\n",
    "One of the biggest advantages of machine learning is to determine how to differentiate observations using a computational model, rather than using human coding and manual rules. When we have thousands of obsevations, machine learning models helps us automatize, scale, and guarantee the reproducibility these coding processes. The basic steps are:\n",
    "1. Gathering data\n",
    "2. Preparing that data\n",
    "3. Choosing a model\n",
    "4. Training\n",
    "5. Evaluation\n",
    "6. Prediction."
   ]
  },
  {
   "cell_type": "markdown",
   "id": "acute-paper",
   "metadata": {},
   "source": [
    "## 1. Gathering data\n",
    "\n",
    "The first step is collecting data and understanding the dataset. This step is very important because the quality and quantity of data that you gather will directly determine how good your predictive model can be. Also, many machine learning models are *biased* because of the data. A well-known example is [this face-generator model](https://www.theverge.com/21298762/face-depixelizer-ai-machine-learning-tool-pulse-stylegan-obama-bias) that did not recognize President Obama as an African-American person. \n",
    "\n",
    "You need to collect data and take into account these recommendations:\n",
    "* **Number of observations (*N*):** In statistics, there is a theorem called \"Law of Big Numbers.\" According to this law, the average of the results obtained from a large number of trials should be close to the expected value. In other words, by having a large number of observations, your model will tend to become closer to the expected value. Creating machine learning models is based on *big datasets.* Imagine companies that collect big data from their clients and are able to get a clear picture of them. Prediciton becomes more accurate as long as you have more observations and knowledge of your population. \n",
    "* **Missing data**: Many observations may lack some values. You can have multiple reasons for this: data-collection issues, restricted data, information not available, etc. It is important to make strategies whenever you have missing data. \n",
    "* **Representativity**: One main problem in most datasets is checking how representative is the dataset with respect to the population. How can we be sure that the dataset is not baised? Computers do not understand the dataset context, or how the dataset was collected. This problem lies on the people who collected the data. Moreover, people who got the data must be aware about any potential flaws or inequealities in the dataset. Descriptive analysis should guide any checkings and validation processes. \n",
    "\n",
    "In this workshop, we will use the datasets provided by *scikit-learn*. You can check other [toy datasets](https://scikit-learn.org/stable/datasets/toy_dataset.html) if you are interested in exploring more. These datasets are well-known, public, and used frequently for learning and testing purposes."
   ]
  },
  {
   "cell_type": "markdown",
   "id": "configured-telling",
   "metadata": {},
   "source": [
    "### Loading datasets\n",
    "\n",
    "Before we get started, some terms that we must get familiar with:\n",
    "* **Samples**: A sample is an observation available in the dataset. Also, they are known as observations, records, etc. They are usually the rows of a dataset table.\n",
    "* **Features**: A feature is an individual measurable property. We also know them as variables and attributes. Usually, these are the columns of a dataset table.\n",
    "\n",
    "We will start importing the scikit-learn's datasets:"
   ]
  },
  {
   "cell_type": "code",
   "execution_count": null,
   "id": "foreign-mirror",
   "metadata": {},
   "outputs": [],
   "source": [
    "from sklearn import datasets"
   ]
  },
  {
   "cell_type": "markdown",
   "id": "acceptable-palace",
   "metadata": {},
   "source": [
    "All datasets are now in the environment. We can call specifically one of those and assign them as a variable. We will use the *Boston house prices dataset.* Each record in the database describes a Boston suburb or town. The data was drawn from the Boston Standard Metropolitan Statistical Area (SMSA) in 1970. The attributes are deﬁned as follows (taken from the UCI Machine Learning Repository1): CRIM: per capita crime rate by town\n",
    "\n",
    "* CRIM: crime per capita crime rate by town\n",
    "* ZN: proportion of residential land zoned for lots over 25,000 sq.ft.\n",
    "* INDUS: proportion of non-retail business acres per town\n",
    "* CHAS: Charles River dummy variable (= 1 if tract bounds river; 0 otherwise)\n",
    "* NOX: nitric oxides concentration (parts per 10 million)\n",
    "* RM: average number of rooms per dwelling\n",
    "* AGE: proportion of owner-occupied units built prior to 1940\n",
    "* DIS: weighted distances to five Boston employment centres\n",
    "* RAD: index of accessibility to radial highways\n",
    "* TAX: full-value property-tax rate per \\$10,000\n",
    "* PTRATIO: pupil-teacher ratio by town\n",
    "* B: 1000(Bk - 0.63)^2 where Bk is the proportion of black people by town\n",
    "* LSTAT: proportion of lower status of the population\n",
    "* MEDV: Median value of owner-occupied homes in $1000’s\n",
    "\n",
    "This model has been frequently used for regression models."
   ]
  },
  {
   "cell_type": "code",
   "execution_count": null,
   "id": "otherwise-quantity",
   "metadata": {},
   "outputs": [],
   "source": [
    "boston = datasets.load_boston()"
   ]
  },
  {
   "cell_type": "markdown",
   "id": "handy-instrument",
   "metadata": {},
   "source": [
    "## 2. Preparing the data"
   ]
  },
  {
   "cell_type": "markdown",
   "id": "humanitarian-going",
   "metadata": {},
   "source": [
    "In a machine learning model, we will have *features* and a *target*. The target is the variable to predict/estimate by the model. The value of the target depends on the features' values. Usually, targets are the outcomes of a process (e.g., giving a loan, earnings). In statistics, the target is also known as the *dependent variable*, and the features are the *independent variables*.\n",
    "\n",
    "![In this example, demographic informations are used to predict users' behavior when they are navigating on a website](https://d2m6ke2px6quvq.cloudfront.net/uploads/2020/09/11/0e1df989-5fc9-474b-ba49-5eaebfc2d795.png)\n",
    "\n",
    "In this example, users' demographic and activity information are used to predict users' behavior when they are navigating on a website."
   ]
  },
  {
   "cell_type": "markdown",
   "id": "healthy-greenhouse",
   "metadata": {},
   "source": [
    "### Getting the features and target data from scikit-learn\n",
    "*scikit-learn* datasets are formated as dictionary-like objects. They hold all the data and some metadata about the data. These data are stored in the `.data` member, which is a `n_samples`, `n_features` array. \n",
    "\n",
    "The member `.feature_names` will contain the names recorded for each feature.\n",
    "\n",
    "In the case of supervised problem, one or more response variables are stored in the `.target` member. These are variables to *predict*.\n",
    "\n",
    "Let's check the Boston dataset:"
   ]
  },
  {
   "cell_type": "code",
   "execution_count": null,
   "id": "exact-crowd",
   "metadata": {},
   "outputs": [],
   "source": [
    "print(boston.data)"
   ]
  },
  {
   "cell_type": "markdown",
   "id": "homeless-collapse",
   "metadata": {},
   "source": [
    "In this dataset, the **Median Value** (the last attribute) is usually the target."
   ]
  },
  {
   "cell_type": "code",
   "execution_count": null,
   "id": "objective-judgment",
   "metadata": {},
   "outputs": [],
   "source": [
    "print(boston.target)"
   ]
  },
  {
   "cell_type": "code",
   "execution_count": null,
   "id": "careful-moderator",
   "metadata": {},
   "outputs": [],
   "source": [
    "print(boston.feature_names)"
   ]
  },
  {
   "cell_type": "markdown",
   "id": "christian-princess",
   "metadata": {},
   "source": [
    "Before applying any model, it is a good idea to convert this data structure to a pandas dataframe. We can keeep the data in one single object and keep the features' names. We can do by calling the dataframe on `boston.data` and adding the target variable to the dataframe from `boston.target`"
   ]
  },
  {
   "cell_type": "code",
   "execution_count": null,
   "id": "cardiac-cleaning",
   "metadata": {},
   "outputs": [],
   "source": [
    "import pandas as pd\n",
    "boston_df = pd.DataFrame(boston.data, columns = boston.feature_names)\n",
    "boston_df['PRICE'] = boston.target"
   ]
  },
  {
   "cell_type": "markdown",
   "id": "interpreted-slave",
   "metadata": {},
   "source": [
    "We will print the first 5 columns of this pandas dataframe. We will see each column with their respective feature name."
   ]
  },
  {
   "cell_type": "code",
   "execution_count": null,
   "id": "phantom-final",
   "metadata": {
    "scrolled": true
   },
   "outputs": [],
   "source": [
    "print(boston_df.head())"
   ]
  },
  {
   "cell_type": "markdown",
   "id": "hindu-assistant",
   "metadata": {},
   "source": [
    "### Exercise 1\n",
    "Before we create a model, let's get familiar with the target column, \"PRICE,\" which is the value of prices of the houses. Run the following command and check the mean, minimum value, maximum value, and the 50\\%. How is the data distributed?"
   ]
  },
  {
   "cell_type": "code",
   "execution_count": null,
   "id": "shared-flesh",
   "metadata": {},
   "outputs": [],
   "source": [
    "print(boston_df['PRICE'].describe())"
   ]
  },
  {
   "cell_type": "markdown",
   "id": "stock-japanese",
   "metadata": {},
   "source": [
    "## 3. Training and Testing sets"
   ]
  },
  {
   "cell_type": "markdown",
   "id": "protected-breakfast",
   "metadata": {},
   "source": [
    "To see if the model is capable to predict \"future\" values, we split the original dataset in two sets: one portion will be used for **training**, and the second portion will be for **testing** purposes. The testing dataset will *test* the model against data that has never been used for *training*. Having a testing dataset allows us to see how the model might perform against data that it has not yet seen. This is meant to be representative of how the model might perform in the real world.\n",
    "\n",
    "A rule of thumb is use for a training-evaluation split somewhere on the order of 80/20, 90/10. Much of this depends on the size of the original source dataset. We will start training the model with 80% of the sample and test the model with the remaining 20%. We do this to assess the model's performance on unseen data.\n",
    "\n",
    "We must separate the features that will act as independent variables (`X`) from the target (`Y`). The independent variables include all attributes but `'PRICE'`:"
   ]
  },
  {
   "cell_type": "code",
   "execution_count": null,
   "id": "three-twins",
   "metadata": {},
   "outputs": [],
   "source": [
    "X = boston_df.drop('PRICE', axis = 1)\n",
    "y = boston_df['PRICE']"
   ]
  },
  {
   "cell_type": "markdown",
   "id": "corresponding-click",
   "metadata": {},
   "source": [
    "To split the data, we use `train_test_split` function provided by *scikit-learn* library. We finally print the shapes of our training and test set to verify if the splitting has occurred properly."
   ]
  },
  {
   "cell_type": "code",
   "execution_count": null,
   "id": "single-allen",
   "metadata": {},
   "outputs": [],
   "source": [
    "# Import the train_test_split function\n",
    "from sklearn.model_selection import train_test_split"
   ]
  },
  {
   "cell_type": "code",
   "execution_count": null,
   "id": "comprehensive-panel",
   "metadata": {},
   "outputs": [],
   "source": [
    "X_train, X_test, y_train, y_test = train_test_split(X, y, test_size = 0.2)"
   ]
  },
  {
   "cell_type": "markdown",
   "id": "japanese-tourist",
   "metadata": {},
   "source": [
    "Now, we check the dimensions of both sets are correct. Since we have 506 observations, the training set has ~404 observations (80%) and the testing set has about 102 observations. Since we have 13 features in total, each `X` dataframe has 13 columns:"
   ]
  },
  {
   "cell_type": "code",
   "execution_count": null,
   "id": "affiliated-slide",
   "metadata": {},
   "outputs": [],
   "source": [
    "print(X_train.shape)\n",
    "print(X_test.shape)"
   ]
  },
  {
   "cell_type": "markdown",
   "id": "surface-indicator",
   "metadata": {},
   "source": [
    "Finally, the target is a single column with 404 observations for the training set, and 102 observations for the testing set."
   ]
  },
  {
   "cell_type": "code",
   "execution_count": null,
   "id": "cooperative-supplier",
   "metadata": {},
   "outputs": [],
   "source": [
    "print(y_train.shape)\n",
    "print(y_test.shape)"
   ]
  },
  {
   "cell_type": "markdown",
   "id": "improved-disability",
   "metadata": {},
   "source": [
    "### Exercise 2\n",
    "Change the proportion for the training set. Instead of 80\\%, set it up for **90%** (i.e., 90% for training and 10% for testing). How many observations would you have for the traning and testing datasets?"
   ]
  },
  {
   "cell_type": "code",
   "execution_count": null,
   "id": "floral-convention",
   "metadata": {},
   "outputs": [],
   "source": [
    "## Run the code here\n",
    "#X_train_2, X_test_2, y_train_2, y_test_2 = ..."
   ]
  },
  {
   "cell_type": "code",
   "execution_count": null,
   "id": "athletic-bronze",
   "metadata": {},
   "outputs": [],
   "source": [
    "# Print X datasets' shape"
   ]
  },
  {
   "cell_type": "code",
   "execution_count": null,
   "id": "dressed-episode",
   "metadata": {},
   "outputs": [],
   "source": [
    "# Print y datasets' shape"
   ]
  },
  {
   "cell_type": "markdown",
   "id": "common-blair",
   "metadata": {},
   "source": [
    "## 4. Choosing a model"
   ]
  },
  {
   "cell_type": "markdown",
   "id": "eligible-shark",
   "metadata": {},
   "source": [
    "The next step in our workflow is choosing a model. There are many models that researchers and data scientists have created over the years. Some are very well suited for image data, others for sequences (like text, or music), some for numerical data, others for text-based data. \n",
    "\n",
    "Since we have 13 features, one target, and numerical data, we can use a **linear regression model.** Regression models are very useful for numeric datasets."
   ]
  },
  {
   "cell_type": "code",
   "execution_count": null,
   "id": "helpful-hello",
   "metadata": {},
   "outputs": [],
   "source": [
    "# Import Linear Regression model\n",
    "from sklearn.linear_model import LinearRegression"
   ]
  },
  {
   "cell_type": "code",
   "execution_count": null,
   "id": "interstate-tolerance",
   "metadata": {},
   "outputs": [],
   "source": [
    "reg = LinearRegression()\n",
    "reg.fit(X_train, y_train)"
   ]
  },
  {
   "cell_type": "markdown",
   "id": "funky-award",
   "metadata": {},
   "source": [
    "### Exercise 3\n",
    "Run again the lineal regression model using your training set with 90% of the observations (`X_train_2`,`y_train_2`). Call your model `reg2`."
   ]
  },
  {
   "cell_type": "code",
   "execution_count": null,
   "id": "dressed-virus",
   "metadata": {},
   "outputs": [],
   "source": [
    "# Run regression model\n",
    "#reg2 = ..."
   ]
  },
  {
   "cell_type": "markdown",
   "id": "fixed-lending",
   "metadata": {},
   "source": [
    "## 5. Evaluating your model\n",
    "\n",
    "Once training is complete, it's time to see if the model provides accurate results. A good practice is to compare the original values (`y_train`) with the predicted values given by the model. We want to check how *good* is the model predicitng the values were used for training. \n",
    "\n",
    "We use the function `predict` to get the values according to the trained model."
   ]
  },
  {
   "cell_type": "code",
   "execution_count": null,
   "id": "structural-channel",
   "metadata": {},
   "outputs": [],
   "source": [
    "y_train_predict = reg.predict(X_train)"
   ]
  },
  {
   "cell_type": "markdown",
   "id": "animated-germany",
   "metadata": {},
   "source": [
    "We compare the predicted training values with the real training values by checking their difference. If the difference is small, the model is predicting values close to the real ones. We will create a table now to compare them visually."
   ]
  },
  {
   "cell_type": "code",
   "execution_count": null,
   "id": "religious-first",
   "metadata": {},
   "outputs": [],
   "source": [
    "y_train_df = pd.DataFrame({'y_real': y_train, 'y_predicted': y_train_predict})\n",
    "y_train_df['difference'] = y_train_df.y_real - y_train_df.y_predicted \n",
    "y_train_df.head(10)"
   ]
  },
  {
   "cell_type": "markdown",
   "id": "martial-interaction",
   "metadata": {},
   "source": [
    "As expected, some predicted values are close to the real values (i.e., their differences are close to zero), and some others are far from expected (i.e., big values in their differences). \n",
    "\n",
    "We need **metrics** to evaluate empirically how good is this model. For linear regression models, one metric is the *coefficient of determination* (R^2) of the prediction. This score is related to the differences between the predicted values and the original values. The best possible score is 1.0. For more details, click [here](https://en.wikipedia.org/wiki/Coefficient_of_determination). "
   ]
  },
  {
   "cell_type": "code",
   "execution_count": null,
   "id": "burning-acrobat",
   "metadata": {},
   "outputs": [],
   "source": [
    "r2 = round(reg.score(X_train, y_train),2)\n",
    "print('R2 score is {}'.format(r2))"
   ]
  },
  {
   "cell_type": "markdown",
   "id": "brown-baltimore",
   "metadata": {},
   "source": [
    "### Exercise 4\n",
    "Calcualte the predicted value using the model `reg2` with the 90% training dataset. Use `y_train_predict_2` for the new predicted values. Then, copy the pandas dataframe and replace the files with your 90% datasets (`y_train_2` and `y_train_predict_2`). The new dataframe should be called `y_train_df_2`. Print `y_train_df_2` dataframe's head. "
   ]
  },
  {
   "cell_type": "code",
   "execution_count": null,
   "id": "concrete-spine",
   "metadata": {},
   "outputs": [],
   "source": [
    "# Calculate the predicted prices based on the 90% training set\n",
    "#y_train_predict_2 = ...\n",
    "\n",
    "# Create the dataframe\n",
    "#y_train_df_2 = ..."
   ]
  },
  {
   "cell_type": "markdown",
   "id": "decimal-injury",
   "metadata": {},
   "source": [
    "Compute the R^2 of your model and compare it with the previous model' R^2. Is it better or worse?"
   ]
  },
  {
   "cell_type": "code",
   "execution_count": null,
   "id": "finnish-kingdom",
   "metadata": {},
   "outputs": [],
   "source": [
    "#r2 = round(reg.score(X_train_2, y_train_2),2)\n",
    "#print('R2 score is {}'.format(r2))"
   ]
  },
  {
   "cell_type": "markdown",
   "id": "advanced-exhibit",
   "metadata": {},
   "source": [
    "## 6. Prediction\n",
    "In this final step, we use the model that we trained to *predict* new values (or values that were not tested before). This is the final test to check how good the model is. If the phenomena or casual effects are reflected correctly in our model, then the model will be capable to predict new observations. If the model's performance gets worse, we must reconsider the training dataset, features, and machine learning model used. \n",
    "\n",
    "Like the prior step, we first start predicting the target values (`y_test_predict`) from the testing dataset (`X_test`)"
   ]
  },
  {
   "cell_type": "code",
   "execution_count": null,
   "id": "limited-pilot",
   "metadata": {},
   "outputs": [],
   "source": [
    "y_test_predict = reg.predict(X_test)"
   ]
  },
  {
   "cell_type": "markdown",
   "id": "diverse-flashing",
   "metadata": {},
   "source": [
    "We compare the predicted testing values with the real testing values by checking their difference. If the difference is small, the model is predicting values close to the real ones. We will create a table now to compare the numbers."
   ]
  },
  {
   "cell_type": "code",
   "execution_count": null,
   "id": "catholic-reception",
   "metadata": {},
   "outputs": [],
   "source": [
    "y_test_df = pd.DataFrame({'y_original': y_test, 'y_predicted': y_test_predict})\n",
    "y_test_df['difference'] = y_test_df.y_original - y_test_df.y_predicted \n",
    "y_test_df.head(10)"
   ]
  },
  {
   "cell_type": "markdown",
   "id": "spread-plasma",
   "metadata": {},
   "source": [
    "Finally, we compute the R^2 of this model and check its performance. We can expect to see a lower performance compared to the training validation. We will discuss in another session how we can make these models have better scores. "
   ]
  },
  {
   "cell_type": "code",
   "execution_count": null,
   "id": "interim-shock",
   "metadata": {},
   "outputs": [],
   "source": [
    "r2 = round(reg.score(X_test, y_test),2)\n",
    "print(\"R^2: {}\".format(r2))"
   ]
  },
  {
   "cell_type": "markdown",
   "id": "creative-ordinance",
   "metadata": {},
   "source": [
    "### Exercise 5"
   ]
  },
  {
   "cell_type": "markdown",
   "id": "headed-blond",
   "metadata": {},
   "source": [
    "Calcualte the predicted value using the model `reg2` with the 90% testing dataset. Use `y_test_predict_2` for the new predicted values. Then, copy the pandas dataframe and replace the variables with your 90% testing dataset (`y_test_2` and `y_test_predict_2`). The new dataframe should be called `y_test_df_2`. Print `y_test_df_2` dataframe's head. "
   ]
  },
  {
   "cell_type": "code",
   "execution_count": null,
   "id": "included-uncertainty",
   "metadata": {},
   "outputs": [],
   "source": [
    "# Calculate the predicted value\n",
    "#y_test_predict_2 = ..."
   ]
  },
  {
   "cell_type": "code",
   "execution_count": null,
   "id": "administrative-peeing",
   "metadata": {},
   "outputs": [],
   "source": [
    "# Create the dataframe\n",
    "#y_test_df_2 = ..."
   ]
  },
  {
   "cell_type": "markdown",
   "id": "pleasant-lighter",
   "metadata": {},
   "source": [
    "Compute the R2 of your model and compare it with the previous model' R2. Is it better or worse?"
   ]
  },
  {
   "cell_type": "code",
   "execution_count": null,
   "id": "floppy-excess",
   "metadata": {},
   "outputs": [],
   "source": [
    "# Compute the score"
   ]
  }
 ],
 "metadata": {
  "kernelspec": {
   "display_name": "Python 3",
   "language": "python",
   "name": "python3"
  },
  "language_info": {
   "codemirror_mode": {
    "name": "ipython",
    "version": 3
   },
   "file_extension": ".py",
   "mimetype": "text/x-python",
   "name": "python",
   "nbconvert_exporter": "python",
   "pygments_lexer": "ipython3",
   "version": "3.9.1"
  }
 },
 "nbformat": 4,
 "nbformat_minor": 5
}
